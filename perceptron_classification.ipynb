{
 "cells": [
  {
   "cell_type": "code",
   "execution_count": 1,
   "metadata": {},
   "outputs": [],
   "source": [
    "import numpy as np\n",
    "import pandas as pd\n",
    "import matplotlib.pyplot as plt\n",
    "from sklearn.model_selection import train_test_split\n",
    "from tqdm import tqdm"
   ]
  },
  {
   "cell_type": "code",
   "execution_count": 2,
   "metadata": {},
   "outputs": [
    {
     "data": {
      "text/html": [
       "<div>\n",
       "<style scoped>\n",
       "    .dataframe tbody tr th:only-of-type {\n",
       "        vertical-align: middle;\n",
       "    }\n",
       "\n",
       "    .dataframe tbody tr th {\n",
       "        vertical-align: top;\n",
       "    }\n",
       "\n",
       "    .dataframe thead th {\n",
       "        text-align: right;\n",
       "    }\n",
       "</style>\n",
       "<table border=\"1\" class=\"dataframe\">\n",
       "  <thead>\n",
       "    <tr style=\"text-align: right;\">\n",
       "      <th></th>\n",
       "      <th>bmi</th>\n",
       "      <th>Age</th>\n",
       "      <th>asa_status</th>\n",
       "      <th>baseline_cancer</th>\n",
       "      <th>baseline_charlson</th>\n",
       "      <th>baseline_cvd</th>\n",
       "      <th>baseline_dementia</th>\n",
       "      <th>baseline_diabetes</th>\n",
       "      <th>baseline_digestive</th>\n",
       "      <th>baseline_osteoart</th>\n",
       "      <th>...</th>\n",
       "      <th>complication_rsi</th>\n",
       "      <th>dow</th>\n",
       "      <th>gender</th>\n",
       "      <th>hour</th>\n",
       "      <th>month</th>\n",
       "      <th>moonphase</th>\n",
       "      <th>mort30</th>\n",
       "      <th>mortality_rsi</th>\n",
       "      <th>race</th>\n",
       "      <th>complication</th>\n",
       "    </tr>\n",
       "  </thead>\n",
       "  <tbody>\n",
       "    <tr>\n",
       "      <th>14630</th>\n",
       "      <td>18.79</td>\n",
       "      <td>14.1</td>\n",
       "      <td>1</td>\n",
       "      <td>0</td>\n",
       "      <td>1</td>\n",
       "      <td>0</td>\n",
       "      <td>0</td>\n",
       "      <td>0</td>\n",
       "      <td>0</td>\n",
       "      <td>0</td>\n",
       "      <td>...</td>\n",
       "      <td>-0.54</td>\n",
       "      <td>1</td>\n",
       "      <td>0</td>\n",
       "      <td>7.78</td>\n",
       "      <td>0</td>\n",
       "      <td>1</td>\n",
       "      <td>0</td>\n",
       "      <td>-0.16</td>\n",
       "      <td>1</td>\n",
       "      <td>1</td>\n",
       "    </tr>\n",
       "    <tr>\n",
       "      <th>14631</th>\n",
       "      <td>19.65</td>\n",
       "      <td>12.6</td>\n",
       "      <td>0</td>\n",
       "      <td>0</td>\n",
       "      <td>0</td>\n",
       "      <td>0</td>\n",
       "      <td>0</td>\n",
       "      <td>0</td>\n",
       "      <td>0</td>\n",
       "      <td>0</td>\n",
       "      <td>...</td>\n",
       "      <td>-1.42</td>\n",
       "      <td>4</td>\n",
       "      <td>0</td>\n",
       "      <td>8.40</td>\n",
       "      <td>6</td>\n",
       "      <td>1</td>\n",
       "      <td>0</td>\n",
       "      <td>-0.77</td>\n",
       "      <td>1</td>\n",
       "      <td>1</td>\n",
       "    </tr>\n",
       "    <tr>\n",
       "      <th>14632</th>\n",
       "      <td>14.84</td>\n",
       "      <td>12.6</td>\n",
       "      <td>1</td>\n",
       "      <td>0</td>\n",
       "      <td>0</td>\n",
       "      <td>0</td>\n",
       "      <td>0</td>\n",
       "      <td>0</td>\n",
       "      <td>0</td>\n",
       "      <td>0</td>\n",
       "      <td>...</td>\n",
       "      <td>0.65</td>\n",
       "      <td>0</td>\n",
       "      <td>0</td>\n",
       "      <td>13.25</td>\n",
       "      <td>3</td>\n",
       "      <td>3</td>\n",
       "      <td>0</td>\n",
       "      <td>0.99</td>\n",
       "      <td>1</td>\n",
       "      <td>1</td>\n",
       "    </tr>\n",
       "    <tr>\n",
       "      <th>14633</th>\n",
       "      <td>17.75</td>\n",
       "      <td>8.9</td>\n",
       "      <td>0</td>\n",
       "      <td>0</td>\n",
       "      <td>1</td>\n",
       "      <td>0</td>\n",
       "      <td>0</td>\n",
       "      <td>0</td>\n",
       "      <td>1</td>\n",
       "      <td>0</td>\n",
       "      <td>...</td>\n",
       "      <td>-0.50</td>\n",
       "      <td>0</td>\n",
       "      <td>1</td>\n",
       "      <td>8.30</td>\n",
       "      <td>5</td>\n",
       "      <td>0</td>\n",
       "      <td>0</td>\n",
       "      <td>0.17</td>\n",
       "      <td>1</td>\n",
       "      <td>1</td>\n",
       "    </tr>\n",
       "    <tr>\n",
       "      <th>14634</th>\n",
       "      <td>14.40</td>\n",
       "      <td>6.1</td>\n",
       "      <td>1</td>\n",
       "      <td>0</td>\n",
       "      <td>1</td>\n",
       "      <td>0</td>\n",
       "      <td>0</td>\n",
       "      <td>0</td>\n",
       "      <td>1</td>\n",
       "      <td>0</td>\n",
       "      <td>...</td>\n",
       "      <td>0.78</td>\n",
       "      <td>2</td>\n",
       "      <td>0</td>\n",
       "      <td>7.65</td>\n",
       "      <td>4</td>\n",
       "      <td>1</td>\n",
       "      <td>0</td>\n",
       "      <td>1.06</td>\n",
       "      <td>0</td>\n",
       "      <td>1</td>\n",
       "    </tr>\n",
       "  </tbody>\n",
       "</table>\n",
       "<p>5 rows × 25 columns</p>\n",
       "</div>"
      ],
      "text/plain": [
       "         bmi   Age  asa_status  baseline_cancer  baseline_charlson  \\\n",
       "14630  18.79  14.1           1                0                  1   \n",
       "14631  19.65  12.6           0                0                  0   \n",
       "14632  14.84  12.6           1                0                  0   \n",
       "14633  17.75   8.9           0                0                  1   \n",
       "14634  14.40   6.1           1                0                  1   \n",
       "\n",
       "       baseline_cvd  baseline_dementia  baseline_diabetes  baseline_digestive  \\\n",
       "14630             0                  0                  0                   0   \n",
       "14631             0                  0                  0                   0   \n",
       "14632             0                  0                  0                   0   \n",
       "14633             0                  0                  0                   1   \n",
       "14634             0                  0                  0                   1   \n",
       "\n",
       "       baseline_osteoart  ...  complication_rsi  dow  gender   hour  month  \\\n",
       "14630                  0  ...             -0.54    1       0   7.78      0   \n",
       "14631                  0  ...             -1.42    4       0   8.40      6   \n",
       "14632                  0  ...              0.65    0       0  13.25      3   \n",
       "14633                  0  ...             -0.50    0       1   8.30      5   \n",
       "14634                  0  ...              0.78    2       0   7.65      4   \n",
       "\n",
       "       moonphase  mort30  mortality_rsi  race  complication  \n",
       "14630          1       0          -0.16     1             1  \n",
       "14631          1       0          -0.77     1             1  \n",
       "14632          3       0           0.99     1             1  \n",
       "14633          0       0           0.17     1             1  \n",
       "14634          1       0           1.06     0             1  \n",
       "\n",
       "[5 rows x 25 columns]"
      ]
     },
     "execution_count": 2,
     "metadata": {},
     "output_type": "execute_result"
    }
   ],
   "source": [
    "df = pd.read_csv(\"Surgical-deepnet.csv\")\n",
    "df.tail()"
   ]
  },
  {
   "cell_type": "code",
   "execution_count": 3,
   "metadata": {},
   "outputs": [
    {
     "data": {
      "text/plain": [
       "bmi                    0\n",
       "Age                    0\n",
       "asa_status             0\n",
       "baseline_cancer        0\n",
       "baseline_charlson      0\n",
       "baseline_cvd           0\n",
       "baseline_dementia      0\n",
       "baseline_diabetes      0\n",
       "baseline_digestive     0\n",
       "baseline_osteoart      0\n",
       "baseline_psych         0\n",
       "baseline_pulmonary     0\n",
       "ahrq_ccs               0\n",
       "ccsComplicationRate    0\n",
       "ccsMort30Rate          0\n",
       "complication_rsi       0\n",
       "dow                    0\n",
       "gender                 0\n",
       "hour                   0\n",
       "month                  0\n",
       "moonphase              0\n",
       "mort30                 0\n",
       "mortality_rsi          0\n",
       "race                   0\n",
       "complication           0\n",
       "dtype: int64"
      ]
     },
     "execution_count": 3,
     "metadata": {},
     "output_type": "execute_result"
    }
   ],
   "source": [
    "df.isnull().sum()"
   ]
  },
  {
   "cell_type": "code",
   "execution_count": 4,
   "metadata": {},
   "outputs": [
    {
     "data": {
      "text/plain": [
       "((11708, 24), (2927, 24), (11708,), (2927,))"
      ]
     },
     "execution_count": 4,
     "metadata": {},
     "output_type": "execute_result"
    }
   ],
   "source": [
    "X = df.drop('complication' ,axis=1).copy().values\n",
    "Y = df['complication'].copy().values\n",
    "# split the data into training and test sets\n",
    "\n",
    "X_train ,X_test ,  Y_train , Y_test = train_test_split(X,Y ,shuffle=True, test_size=0.2)\n",
    "\n",
    "\n",
    "X_train.shape ,X_test.shape ,Y_train.shape ,Y_test.shape"
   ]
  },
  {
   "cell_type": "code",
   "execution_count": 5,
   "metadata": {},
   "outputs": [
    {
     "name": "stderr",
     "output_type": "stream",
     "text": [
      "100%|██████████| 256/256 [01:34<00:00,  2.70it/s]\n"
     ]
    }
   ],
   "source": [
    "# number of features (x)== number of W's\n",
    "# Activation Function Added\n",
    " \n",
    "class Perceptron :\n",
    "    def __init__(self , learning_rate , input_length):\n",
    "        self.learning_rate = learning_rate\n",
    "        self.weights = np.random.rand(input_length)\n",
    "        self.bias = np.random.rand(1)\n",
    "\n",
    "\n",
    "    def fit(self , X_train , Y_train , epochs):\n",
    "        \n",
    "        for epoch in tqdm(range(epochs)) :\n",
    "            #for i in range(len(X_train)):\n",
    "                #x = X_train[i]\n",
    "                #y = Y_trin[i]\n",
    "            for x , y in zip(X_train , Y_train ): # in halghe for hamzaman rooye do ta list jelo mire // chasboondane 2 ta araye \n",
    "                y_pred = x @ self.weights + self.bias\n",
    "\n",
    "                # give y_pred to ACTIVATION FUNCTION \n",
    "                # chon output ya 0 as ya 1 , pas az sigmoid estefade mikonim\n",
    "                y_pred = self.activation(y_pred , \"sigmoid\")\n",
    "                # forwarding finished\n",
    "\n",
    "                #hengame train = ham be forwarding + va ham backprop nyaz darim \n",
    "                #vaghti train tamoom mishe , va mikhaim az model estefade konim , yani dar taabe predict , faghat forwarding ro darim , va backprop nadarim\n",
    "\n",
    "\n",
    "                # START BACKPROPAGATION \n",
    "                # 1- CALC ERROR\n",
    "                # تا خطا نداشته باشیم آپدیتی هم نداریم\n",
    "                error = y - y_pred\n",
    "                # 2- updating weights and bias \n",
    "                # bayad az wx+b=y moshtagh begirim ta be min w beresim : pas moshagheh nesbat be w mishse : x + 1\n",
    "\n",
    "                # in rabete x dare chon moshatgheh w = x hast \n",
    "                self.weights = self.weights + (self.learning_rate * error * x)\n",
    "                # in rabete x nadare chon : moshtaghe wx+b=y  ==> x+1 mishe , ke 1 moshtaghe b hast nesbat be w\n",
    "                self.bias = self.bias + ( self.learning_rate * error)\n",
    "\n",
    "\n",
    "                \n",
    "    def activation(self, x , function):\n",
    "        if function == \"sigmoid\" :\n",
    "            return 1 / (1 + np.exp(-x)) \n",
    "        \n",
    "        elif function == \"relu\" :\n",
    "            return np.maximum(0 , x)\n",
    "        \n",
    "        elif function == \"tanh\" :\n",
    "            return np.tanh(x)\n",
    "        \n",
    "        elif function == \"linear\" :\n",
    "            return x \n",
    "        \n",
    "        else :\n",
    "            raise Exception(\"unknown activation function\")\n",
    "\n",
    "\n",
    "\n",
    "    def predict(self , X_test):\n",
    "        Y_pred = []\n",
    "        for x_test in X_test :\n",
    "            y_pred = x_test @ self.weights + self.bias \n",
    "            y_pred = self.activation(y_pred , \"sigmoid\")\n",
    "            Y_pred.append(y_pred)\n",
    "\n",
    "        return np.array(Y_pred)\n",
    "\n",
    "\n",
    "    def calculate_loss(self, X_test , Y_test , metric):\n",
    "        Y_pred = self.predict(X_test)\n",
    "        if metric == \"mse\" :\n",
    "            return np.mean(np.square(Y_test - Y_pred))\n",
    "        elif metric == \"mae\" :\n",
    "            return np.mean(np.abs(Y_test - Y_pred))\n",
    "        elif metric == \"rmse\":\n",
    "            return np.sqrt(np.mean(np.square( Y_test - Y_pred)))\n",
    "        else :\n",
    "            raise Exception(\"unknown metric\")\n",
    "        \n",
    "\n",
    "\n",
    "    def calculate_accuracy(self , X_test , Y_test):\n",
    "        Y_pred = self.predict(X_test)\n",
    "        Y_pred = Y_pred.reshape(-1)\n",
    "        Y_pred = np.where(Y_pred > 0.5  , 1 ,  0)      \n",
    "        accuracy = np.sum(Y_pred == Y_test) / len(Y_test)\n",
    "        return accuracy\n",
    "\n",
    "\n",
    "    def evaluate(self , X_test , Y_test):\n",
    "\n",
    "        loss = self.calculate_loss(X_test , Y_test , \"mse\")\n",
    "        accuracy = self.calculate_accuracy(X_test , Y_test)\n",
    "        \n",
    "        return loss , accuracy\n",
    "\n",
    "    \n",
    "\n",
    "\n",
    "model = Perceptron(learning_rate= 0.001 , input_length= X_train.shape[1])\n",
    "model.fit(X_train , Y_train , epochs=256)\n",
    "\n",
    "# x * w + b  = y\n",
    "\n",
    "# backpropagation = update w's and bias \n",
    "# error  = y - ypred\n",
    "\n",
    "# methods : adam - rmsprob - SGD\n",
    "# SGD = w = w + ( error * x * lr )\n",
    "#    bias = b + ( error * lr )"
   ]
  },
  {
   "cell_type": "code",
   "execution_count": 6,
   "metadata": {},
   "outputs": [
    {
     "data": {
      "text/plain": [
       "(0.2621623704268538, 0.7922787837376153)"
      ]
     },
     "execution_count": 6,
     "metadata": {},
     "output_type": "execute_result"
    }
   ],
   "source": [
    "model.evaluate(X_test ,Y_test)"
   ]
  },
  {
   "cell_type": "code",
   "execution_count": 7,
   "metadata": {},
   "outputs": [],
   "source": [
    "Y_pred = model.predict(X_test)\n",
    "Y_pred = Y_pred.reshape(-1)\n",
    "Y_pred = np.where(Y_pred > 0.5 , 1 , 0)"
   ]
  },
  {
   "cell_type": "code",
   "execution_count": 8,
   "metadata": {},
   "outputs": [],
   "source": [
    "from sklearn.metrics import confusion_matrix\n",
    "\n",
    "cm = confusion_matrix(Y_test,Y_pred)"
   ]
  },
  {
   "cell_type": "code",
   "execution_count": 9,
   "metadata": {},
   "outputs": [
    {
     "data": {
      "text/plain": [
       "[Text(0, 0.5, 'Healthy'), Text(0, 1.5, 'sick')]"
      ]
     },
     "execution_count": 9,
     "metadata": {},
     "output_type": "execute_result"
    },
    {
     "data": {
      "image/png": "[encoded data removed]",
      "text/plain": [
       "<Figure size 640x480 with 2 Axes>"
      ]
     },
     "metadata": {},
     "output_type": "display_data"
    }
   ],
   "source": [
    "import seaborn as sns\n",
    "import matplotlib.pyplot as plt\n",
    "\n",
    "\n",
    "ax = plt.subplot()\n",
    "sns.heatmap(cm , annot=True , fmt='g' , ax=ax)\n",
    "\n",
    "# labels, title and ticks\n",
    "ax.set_xlabel('Predicted labels')\n",
    "ax.set_ylabel('True labels')\n",
    "ax.set_title('Confusion Matrix')\n",
    "ax.xaxis.set_ticklabels(['Healthy' ,'sick'])\n",
    "ax.yaxis.set_ticklabels(['Healthy' ,'sick'])"
   ]
  },
  {
   "cell_type": "code",
   "execution_count": 10,
   "metadata": {},
   "outputs": [
    {
     "name": "stdout",
     "output_type": "stream",
     "text": [
      "precosion_score: 0.631578947368421\n",
      "recall_score: 0.4092769440654843\n"
     ]
    }
   ],
   "source": [
    "# precision and recall\n",
    "from sklearn.metrics import precision_score,recall_score\n",
    "\n",
    "print('precosion_score:',precision_score(Y_test,Y_pred))\n",
    "print('recall_score:',recall_score(Y_test,Y_pred))"
   ]
  }
 ],
 "metadata": {
  "kernelspec": {
   "display_name": "Python 3",
   "language": "python",
   "name": "python3"
  },
  "language_info": {
   "codemirror_mode": {
    "name": "ipython",
    "version": 3
   },
   "file_extension": ".py",
   "mimetype": "text/x-python",
   "name": "python",
   "nbconvert_exporter": "python",
   "pygments_lexer": "ipython3",
   "version": "3.11.4"
  },
  "orig_nbformat": 4
 },
 "nbformat": 4,
 "nbformat_minor": 2
}
